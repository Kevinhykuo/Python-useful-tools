{
 "cells": [
  {
   "cell_type": "code",
   "execution_count": 6,
   "metadata": {},
   "outputs": [],
   "source": [
    "import dtale \n",
    "import pandas as pd"
   ]
  },
  {
   "cell_type": "code",
   "execution_count": 13,
   "metadata": {},
   "outputs": [
    {
     "data": {
      "text/html": [
       "<div>\n",
       "<style scoped>\n",
       "    .dataframe tbody tr th:only-of-type {\n",
       "        vertical-align: middle;\n",
       "    }\n",
       "\n",
       "    .dataframe tbody tr th {\n",
       "        vertical-align: top;\n",
       "    }\n",
       "\n",
       "    .dataframe thead th {\n",
       "        text-align: right;\n",
       "    }\n",
       "</style>\n",
       "<table border=\"1\" class=\"dataframe\">\n",
       "  <thead>\n",
       "    <tr style=\"text-align: right;\">\n",
       "      <th></th>\n",
       "      <th>0</th>\n",
       "      <th>1</th>\n",
       "      <th>2</th>\n",
       "      <th>3</th>\n",
       "      <th>4</th>\n",
       "      <th>5</th>\n",
       "      <th>6</th>\n",
       "      <th>7</th>\n",
       "      <th>8</th>\n",
       "    </tr>\n",
       "  </thead>\n",
       "  <tbody>\n",
       "    <tr>\n",
       "      <td>0</td>\n",
       "      <td>ID_USER</td>\n",
       "      <td>USER_STATE</td>\n",
       "      <td>USER_TIMEZONE</td>\n",
       "      <td>ID_HOTEL</td>\n",
       "      <td>HOTEL_CITY</td>\n",
       "      <td>HOTEL_STATE</td>\n",
       "      <td>HOTEL_TIMEZONE</td>\n",
       "      <td>Trip Type</td>\n",
       "      <td>Rating</td>\n",
       "    </tr>\n",
       "    <tr>\n",
       "      <td>1</td>\n",
       "      <td>45</td>\n",
       "      <td>GA</td>\n",
       "      <td>Eastern</td>\n",
       "      <td>105170</td>\n",
       "      <td>Memphis</td>\n",
       "      <td>TN</td>\n",
       "      <td>Central</td>\n",
       "      <td>3</td>\n",
       "      <td>5</td>\n",
       "    </tr>\n",
       "    <tr>\n",
       "      <td>2</td>\n",
       "      <td>45</td>\n",
       "      <td>GA</td>\n",
       "      <td>Eastern</td>\n",
       "      <td>223229</td>\n",
       "      <td>SanAntonio</td>\n",
       "      <td>TX</td>\n",
       "      <td>Central</td>\n",
       "      <td>3</td>\n",
       "      <td>5</td>\n",
       "    </tr>\n",
       "    <tr>\n",
       "      <td>3</td>\n",
       "      <td>45</td>\n",
       "      <td>GA</td>\n",
       "      <td>Eastern</td>\n",
       "      <td>258688</td>\n",
       "      <td>Albuquerque</td>\n",
       "      <td>NM</td>\n",
       "      <td>Mountain</td>\n",
       "      <td>3</td>\n",
       "      <td>5</td>\n",
       "    </tr>\n",
       "    <tr>\n",
       "      <td>4</td>\n",
       "      <td>45</td>\n",
       "      <td>GA</td>\n",
       "      <td>Eastern</td>\n",
       "      <td>98827</td>\n",
       "      <td>ELPaso</td>\n",
       "      <td>TX</td>\n",
       "      <td>Central</td>\n",
       "      <td>3</td>\n",
       "      <td>5</td>\n",
       "    </tr>\n",
       "    <tr>\n",
       "      <td>5</td>\n",
       "      <td>45</td>\n",
       "      <td>GA</td>\n",
       "      <td>Eastern</td>\n",
       "      <td>99518</td>\n",
       "      <td>SanAntonio</td>\n",
       "      <td>TX</td>\n",
       "      <td>Central</td>\n",
       "      <td>3</td>\n",
       "      <td>3</td>\n",
       "    </tr>\n",
       "    <tr>\n",
       "      <td>6</td>\n",
       "      <td>64</td>\n",
       "      <td>TX</td>\n",
       "      <td>Central</td>\n",
       "      <td>224427</td>\n",
       "      <td>Cleveland</td>\n",
       "      <td>OH</td>\n",
       "      <td>Eastern</td>\n",
       "      <td>1</td>\n",
       "      <td>4</td>\n",
       "    </tr>\n",
       "    <tr>\n",
       "      <td>7</td>\n",
       "      <td>64</td>\n",
       "      <td>TX</td>\n",
       "      <td>Central</td>\n",
       "      <td>1751886</td>\n",
       "      <td>Austin</td>\n",
       "      <td>TX</td>\n",
       "      <td>Central</td>\n",
       "      <td>3</td>\n",
       "      <td>4</td>\n",
       "    </tr>\n",
       "    <tr>\n",
       "      <td>8</td>\n",
       "      <td>64</td>\n",
       "      <td>TX</td>\n",
       "      <td>Central</td>\n",
       "      <td>99120</td>\n",
       "      <td>Houston</td>\n",
       "      <td>TX</td>\n",
       "      <td>Central</td>\n",
       "      <td>3</td>\n",
       "      <td>4</td>\n",
       "    </tr>\n",
       "    <tr>\n",
       "      <td>9</td>\n",
       "      <td>100</td>\n",
       "      <td>NY</td>\n",
       "      <td>Eastern</td>\n",
       "      <td>120111</td>\n",
       "      <td>Jacksonville</td>\n",
       "      <td>FL</td>\n",
       "      <td>Eastern</td>\n",
       "      <td>2</td>\n",
       "      <td>5</td>\n",
       "    </tr>\n",
       "  </tbody>\n",
       "</table>\n",
       "</div>"
      ],
      "text/plain": [
       "         0           1              2         3             4            5  \\\n",
       "0  ID_USER  USER_STATE  USER_TIMEZONE  ID_HOTEL    HOTEL_CITY  HOTEL_STATE   \n",
       "1       45          GA        Eastern    105170       Memphis           TN   \n",
       "2       45          GA        Eastern    223229    SanAntonio           TX   \n",
       "3       45          GA        Eastern    258688   Albuquerque           NM   \n",
       "4       45          GA        Eastern     98827        ELPaso           TX   \n",
       "5       45          GA        Eastern     99518    SanAntonio           TX   \n",
       "6       64          TX        Central    224427     Cleveland           OH   \n",
       "7       64          TX        Central   1751886        Austin           TX   \n",
       "8       64          TX        Central     99120       Houston           TX   \n",
       "9      100          NY        Eastern    120111  Jacksonville           FL   \n",
       "\n",
       "                6          7       8  \n",
       "0  HOTEL_TIMEZONE  Trip Type  Rating  \n",
       "1         Central          3       5  \n",
       "2         Central          3       5  \n",
       "3        Mountain          3       5  \n",
       "4         Central          3       5  \n",
       "5         Central          3       3  \n",
       "6         Eastern          1       4  \n",
       "7         Central          3       4  \n",
       "8         Central          3       4  \n",
       "9         Eastern          2       5  "
      ]
     },
     "execution_count": 13,
     "metadata": {},
     "output_type": "execute_result"
    }
   ],
   "source": [
    "df = pd.read_csv('../datasets/Data_TripAdvisor_v1.csv', header=None, encoding = \"ISO-8859-1\")\n",
    "df.head(10)"
   ]
  },
  {
   "cell_type": "code",
   "execution_count": 14,
   "metadata": {},
   "outputs": [
    {
     "data": {
      "text/html": [
       "\n",
       "        <iframe\n",
       "            width=\"100%\"\n",
       "            height=\"350\"\n",
       "            src=\"http://Mohammeds-LabBook.local:40000/dtale/iframe/1\"\n",
       "            frameborder=\"0\"\n",
       "            allowfullscreen\n",
       "        ></iframe>\n",
       "        "
      ],
      "text/plain": [
       "<IPython.lib.display.IFrame at 0x7fef2134deb8>"
      ]
     },
     "metadata": {},
     "output_type": "display_data"
    },
    {
     "data": {
      "text/plain": []
     },
     "execution_count": 14,
     "metadata": {},
     "output_type": "execute_result"
    },
    {
     "name": "stdout",
     "output_type": "stream",
     "text": [
      "Executing shutdown due to inactivity...\n"
     ]
    },
    {
     "name": "stderr",
     "output_type": "stream",
     "text": [
      "2020-02-23 10:25:01,040 - INFO     - Executing shutdown due to inactivity...\n"
     ]
    },
    {
     "name": "stdout",
     "output_type": "stream",
     "text": [
      "Executing shutdown...\n"
     ]
    },
    {
     "name": "stderr",
     "output_type": "stream",
     "text": [
      "2020-02-23 10:25:01,364 - INFO     - Executing shutdown...\n"
     ]
    }
   ],
   "source": [
    "dtale.show(df)"
   ]
  },
  {
   "cell_type": "code",
   "execution_count": null,
   "metadata": {},
   "outputs": [],
   "source": []
  }
 ],
 "metadata": {
  "kernelspec": {
   "display_name": "Python 3",
   "language": "python",
   "name": "python3"
  },
  "language_info": {
   "codemirror_mode": {
    "name": "ipython",
    "version": 3
   },
   "file_extension": ".py",
   "mimetype": "text/x-python",
   "name": "python",
   "nbconvert_exporter": "python",
   "pygments_lexer": "ipython3",
   "version": "3.6.9"
  }
 },
 "nbformat": 4,
 "nbformat_minor": 2
}
