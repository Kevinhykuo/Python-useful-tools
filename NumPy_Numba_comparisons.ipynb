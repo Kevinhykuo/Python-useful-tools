{
 "cells": [
  {
   "cell_type": "markdown",
   "metadata": {},
   "source": [
    "# Python Numba or NumPy: which one to choose?"
   ]
  },
  {
   "cell_type": "markdown",
   "metadata": {},
   "source": [
    "This notebook shows an example of how to use Numpy and Numba to construct and maniplulayt the data vectors. "
   ]
  },
  {
   "cell_type": "markdown",
   "metadata": {},
   "source": [
    "## Creating a ten-million row list"
   ]
  },
  {
   "cell_type": "code",
   "execution_count": 1,
   "metadata": {},
   "outputs": [],
   "source": [
    "# We need to import the random package to fillup the array with some random values.\n",
    "\n",
    "import random\n",
    "# Will use the time package to plot the runtime of different task\n",
    "import time\n",
    "array = []\n",
    "import matplotlib.pyplot as plt "
   ]
  },
  {
   "cell_type": "code",
   "execution_count": 2,
   "metadata": {},
   "outputs": [],
   "source": [
    "def build_list(size):\n",
    "    for i in range(0,size):\n",
    "        val = random.randint(0,1000)\n",
    "        array.append(val)\n",
    "    return array"
   ]
  },
  {
   "cell_type": "code",
   "execution_count": 3,
   "metadata": {},
   "outputs": [
    {
     "name": "stdout",
     "output_type": "stream",
     "text": [
      "CPU times: user 9.77 s, sys: 89.2 ms, total: 9.86 s\n",
      "Wall time: 9.87 s\n"
     ]
    }
   ],
   "source": [
    "%%time \n",
    "array = build_list(10000000)"
   ]
  },
  {
   "cell_type": "code",
   "execution_count": 4,
   "metadata": {},
   "outputs": [
    {
     "name": "stdout",
     "output_type": "stream",
     "text": [
      "The size of the newly created list:  10000000\n"
     ]
    }
   ],
   "source": [
    "print('The size of the newly created list: ', len(array))"
   ]
  },
  {
   "cell_type": "code",
   "execution_count": 5,
   "metadata": {},
   "outputs": [],
   "source": [
    "def find_a_value(key):\n",
    "    freq = 0 \n",
    "    for value in array: \n",
    "        if value == key: \n",
    "            freq = freq + 1\n",
    "    return freq"
   ]
  },
  {
   "cell_type": "code",
   "execution_count": 6,
   "metadata": {},
   "outputs": [
    {
     "name": "stdout",
     "output_type": "stream",
     "text": [
      "10118\n",
      "CPU times: user 229 ms, sys: 3.72 ms, total: 233 ms\n",
      "Wall time: 231 ms\n"
     ]
    }
   ],
   "source": [
    "%%time\n",
    "key = 999\n",
    "print(find_a_value(key))"
   ]
  },
  {
   "cell_type": "markdown",
   "metadata": {},
   "source": [
    "## Creating a NumPy array"
   ]
  },
  {
   "cell_type": "code",
   "execution_count": 7,
   "metadata": {},
   "outputs": [],
   "source": [
    "# Let's load the numpy library\n",
    "import numpy as np"
   ]
  },
  {
   "cell_type": "code",
   "execution_count": 8,
   "metadata": {},
   "outputs": [
    {
     "name": "stdout",
     "output_type": "stream",
     "text": [
      "The size of the numpy array:  (10000000,)\n"
     ]
    }
   ],
   "source": [
    "np_array = np.array(array)\n",
    "print('The size of the numpy array: ', np_array.shape)"
   ]
  },
  {
   "cell_type": "code",
   "execution_count": 9,
   "metadata": {},
   "outputs": [
    {
     "name": "stdout",
     "output_type": "stream",
     "text": [
      "CPU times: user 9.65 ms, sys: 2.85 ms, total: 12.5 ms\n",
      "Wall time: 11.1 ms\n"
     ]
    }
   ],
   "source": [
    "%%time\n",
    "result = np.where(np_array == key)"
   ]
  },
  {
   "cell_type": "code",
   "execution_count": 10,
   "metadata": {},
   "outputs": [
    {
     "name": "stdout",
     "output_type": "stream",
     "text": [
      "10118\n"
     ]
    }
   ],
   "source": [
    "print(len(result[0]))"
   ]
  },
  {
   "cell_type": "markdown",
   "metadata": {},
   "source": [
    "## Applying an operation on the array entries "
   ]
  },
  {
   "cell_type": "code",
   "execution_count": 11,
   "metadata": {},
   "outputs": [],
   "source": [
    "def apply_operation_list(array): \n",
    "    # We need to build an X vector from the original array\n",
    "    # The math operations in this function represents some random logic.\n",
    "    x_array = [] \n",
    "    for array_v in array: \n",
    "        x_array.append(array_v * 2)\n",
    "    \n",
    "    # Building the Y vector\n",
    "    y_array = []\n",
    "    for array_v, x_array_v in zip(array, x_array): \n",
    "        y_array.append(array_v + x_array_v)\n",
    "    \n",
    "    # Building the Z vector\n",
    "    z_array = []\n",
    "    for array_v, x_array_v, y_array_v in zip(array, x_array, y_array):\n",
    "        if x_array_v == 0: \n",
    "            z_array.append(0)\n",
    "        else: \n",
    "            z_array.append((array_v - x_array_v ) + y_array_v)\n",
    "    \n",
    "    return x_array, y_array, z_array"
   ]
  },
  {
   "cell_type": "code",
   "execution_count": 12,
   "metadata": {},
   "outputs": [
    {
     "name": "stdout",
     "output_type": "stream",
     "text": [
      "CPU times: user 2.97 s, sys: 233 ms, total: 3.2 s\n",
      "Wall time: 3.2 s\n"
     ]
    }
   ],
   "source": [
    "%%time\n",
    "x_array, y_array, z_array = apply_operation_list(array)"
   ]
  },
  {
   "cell_type": "code",
   "execution_count": 13,
   "metadata": {},
   "outputs": [],
   "source": [
    "# Let's concatenate the columns in one array \n",
    "array_l = list(zip(x_array, y_array, z_array))"
   ]
  },
  {
   "cell_type": "code",
   "execution_count": 14,
   "metadata": {},
   "outputs": [],
   "source": [
    "def apply_operation_numpy(array): \n",
    "    # We need to build an X vector from the original array\n",
    "    # The math operations in this function represents some random logic.\n",
    "    x_array = array * 2\n",
    "    \n",
    "    # Building the Y vector\n",
    "    y_array = array + x_array\n",
    "    \n",
    "    # Building the Z vector\n",
    "    z_array = ( array - x_array ) + y_array\n",
    "    \n",
    "    return x_array, y_array, z_array"
   ]
  },
  {
   "cell_type": "code",
   "execution_count": 15,
   "metadata": {},
   "outputs": [
    {
     "name": "stdout",
     "output_type": "stream",
     "text": [
      "CPU times: user 64.6 ms, sys: 40.1 ms, total: 105 ms\n",
      "Wall time: 104 ms\n"
     ]
    }
   ],
   "source": [
    "%%time\n",
    "x_array_np, y_array_np, z_array_np = apply_operation_numpy(np_array)"
   ]
  },
  {
   "cell_type": "code",
   "execution_count": 16,
   "metadata": {},
   "outputs": [],
   "source": [
    "# Let's concatenate the columns in one array \n",
    "array_np = np.column_stack([x_array_np, y_array_np, z_array_np])"
   ]
  },
  {
   "cell_type": "code",
   "execution_count": 17,
   "metadata": {},
   "outputs": [],
   "source": [
    "# Loading the Numba package\n",
    "# Jit tells numba the function we want to compile\n",
    "from numba import jit"
   ]
  },
  {
   "cell_type": "code",
   "execution_count": 18,
   "metadata": {},
   "outputs": [],
   "source": [
    "@jit\n",
    "def apply_operation_numba(array): \n",
    "    # We need to build an X vector from the original array\n",
    "    # The math operations in this function represents some random logic.\n",
    "    x_array = array * 2\n",
    "    \n",
    "    # Building the Y vector\n",
    "    y_array = array + x_array\n",
    "    \n",
    "    # Building the Z vector\n",
    "    z_array = ( array - x_array ) + y_array\n",
    "    \n",
    "    return x_array, y_array, z_array"
   ]
  },
  {
   "cell_type": "code",
   "execution_count": 19,
   "metadata": {},
   "outputs": [
    {
     "name": "stdout",
     "output_type": "stream",
     "text": [
      "CPU times: user 64.5 ms, sys: 40.6 ms, total: 105 ms\n",
      "Wall time: 104 ms\n"
     ]
    }
   ],
   "source": [
    "%%time\n",
    "x_array_nb, y_array_nb, z_array_nb = apply_operation_numpy(np_array)"
   ]
  },
  {
   "cell_type": "code",
   "execution_count": 190,
   "metadata": {},
   "outputs": [],
   "source": [
    "# Let's concatenate the columns in one array similarly\n",
    "array_nb = np.column_stack([x_array_np, y_array_np, z_array_np])"
   ]
  },
  {
   "cell_type": "markdown",
   "metadata": {},
   "source": [
    "# Computing Value Frequency"
   ]
  },
  {
   "cell_type": "code",
   "execution_count": null,
   "metadata": {},
   "outputs": [],
   "source": [
    "### Using a list and a dictionary"
   ]
  },
  {
   "cell_type": "code",
   "execution_count": null,
   "metadata": {},
   "outputs": [],
   "source": [
    "%time\n",
    "d = {x:x_array.count(x) for x in x_array}"
   ]
  },
  {
   "cell_type": "code",
   "execution_count": 192,
   "metadata": {},
   "outputs": [
    {
     "name": "stdout",
     "output_type": "stream",
     "text": [
      "CPU times: user 1.55 s, sys: 18.2 ms, total: 1.57 s\n",
      "Wall time: 388 ms\n"
     ]
    }
   ],
   "source": [
    "%%time\n",
    "x_elements_np, x_counts_np = np.unique(x_array_np, return_counts=True)"
   ]
  },
  {
   "cell_type": "code",
   "execution_count": 50,
   "metadata": {},
   "outputs": [],
   "source": [
    "time_list = [0.0005497932434082031,    #   10,000\n",
    "             0.003844022750854492,     #  100,000\n",
    "             0.038639068603515625,     # 1000,000\n",
    "             0.2835867404937744,       # 10,000,000\n",
    "             2.5258989334106445,       # 100,000,000\n",
    "             4.757065773010254]        # 1000,000,000\n",
    "time_numpy = [0.2504310607910156,\n",
    "             0.2957942485809326,\n",
    "             0.3016660213470459,\n",
    "             0.27858901023864746,\n",
    "             0.42589712142944336,\n",
    "             2.0494470596313477]\n",
    "time_numpy2 = [0.08970904350280762,\n",
    "             0.05908989906311035,\n",
    "             0.07226109504699707,\n",
    "             0.18674707412719727,\n",
    "             1.2738947868347168,\n",
    "             32.62264084815979]\n",
    "time_numba2= [0.1367931365966797, 0.1189723014831543, 0.0751180648803711,\n",
    "             0.2380678653717041,\n",
    "             1.3935070037841797,\n",
    "             25.82284688949585]"
   ]
  },
  {
   "cell_type": "code",
   "execution_count": 51,
   "metadata": {},
   "outputs": [
    {
     "data": {
      "image/png": "[encoded data removed]",
      "text/plain": [
       "<Figure size 1440x720 with 1 Axes>"
      ]
     },
     "metadata": {
      "needs_background": "light"
     },
     "output_type": "display_data"
    }
   ],
   "source": [
    "plt.figure(figsize=(20,10))\n",
    "examples = ['10k', '100k', '1m', '10m', '100m', '1b']\n",
    "plt.plot(examples, time_list, label=\"List\")\n",
    "plt.plot(examples, time_numpy, label=\"Numpy\")\n",
    "plt.legend(loc='upper left')\n",
    "plt.title(\"Runtime of different examples\", fontsize=22, fontweight='bold')\n",
    "plt.ylabel(\"Runtime in ms\")\n",
    "plt.xlabel(\"Data Size\")\n",
    "plt.show()"
   ]
  },
  {
   "cell_type": "code",
   "execution_count": 52,
   "metadata": {},
   "outputs": [
    {
     "data": {
      "image/png": "[encoded data removed]",
      "text/plain": [
       "<Figure size 1440x720 with 1 Axes>"
      ]
     },
     "metadata": {
      "needs_background": "light"
     },
     "output_type": "display_data"
    }
   ],
   "source": [
    "plt.figure(figsize=(20,10))\n",
    "examples = ['10k', '100k', '1m', '10m', '100m', '1b']\n",
    "plt.plot(examples, time_numpy2, label=\"Numby\")\n",
    "plt.plot(examples, time_numba2, label=\"Numba\")\n",
    "plt.legend(loc='upper left')\n",
    "plt.title(\"Runtime of different examples\", fontsize=22, fontweight='bold')\n",
    "plt.ylabel(\"Runtime in seconds\")\n",
    "plt.xlabel(\"Data Size\")\n",
    "plt.show()"
   ]
  },
  {
   "cell_type": "code",
   "execution_count": null,
   "metadata": {},
   "outputs": [],
   "source": []
  }
 ],
 "metadata": {
  "kernelspec": {
   "display_name": "Python 3",
   "language": "python",
   "name": "python3"
  },
  "language_info": {
   "codemirror_mode": {
    "name": "ipython",
    "version": 3
   },
   "file_extension": ".py",
   "mimetype": "text/x-python",
   "name": "python",
   "nbconvert_exporter": "python",
   "pygments_lexer": "ipython3",
   "version": "3.6.9"
  }
 },
 "nbformat": 4,
 "nbformat_minor": 2
}
